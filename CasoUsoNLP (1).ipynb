{
  "cells": [
    {
      "cell_type": "markdown",
      "metadata": {
        "id": "KIA8BqxqH6fa"
      },
      "source": [
        "-----------------------------------------------------------------------------------------------------------------------\n",
        "# **Análisis de sentimientos en reseñas de IMDB**\n",
        "-----------------------------------------------------------------------------------------------------------------------"
      ]
    },
    {
      "cell_type": "markdown",
      "metadata": {
        "id": "OuM9E98QH-xB"
      },
      "source": [
        "\n",
        "--------------------------\n",
        "## **Contexto**\n",
        "--------------------------\n",
        "\n",
        "El presente caso de estudio aborda el análisis de sentimientos aplicado a reseñas de películas y series disponibles en el portal IMDB. Trabajamos con un conjunto de datos extenso que contiene **50,000 reseñas de usuarios** donde cada reseña está asociada a una etiqueta de sentimiento (positive/negative). Sin embargo, para este proyecto **ignoramos las etiquetas originales** y generamos nuestras propias etiquetas de sentimiento de forma automática aplicando el modelo léxico VADER.\n",
        "\n",
        "Dado el gran tamaño del dataset y los altos requerimientos computacionales de los algoritmos de procesamiento de texto (especialmente durante la vectorización TF-IDF y reducción de dimensionalidad), realizamos el análisis sobre una **muestra aleatoria del total de datos**. Esta selección permite mantener la robustez metodológica y, al mismo tiempo, optimizar los tiempos de procesamiento y entrenamiento.\n",
        "\n",
        "El flujo de trabajo simula un escenario semi-supervisado de análisis de sentimientos, permitiendo evaluar técnicas de **etiquetado automático**, reducción de dimensionalidad y modelado supervisado de clasificación de sentimientos.\n",
        "\n",
        "--------------------------\n",
        "## **Objetivo**\n",
        "--------------------------\n",
        "\n",
        "El objetivo central de este proyecto es construir un pipeline completo capaz de clasificar reseñas textuales en categorías de **sentimiento positivo o negativo**. Para lograr este propósito, implementamos los siguientes pasos:\n",
        "\n",
        "- Realizar el preprocesamiento y limpieza exhaustiva de las reseñas textuales.\n",
        "- Generar etiquetas automáticas de sentimiento utilizando el analizador léxico VADER.\n",
        "- Convertir los textos en representaciones numéricas mediante **TF-IDF**, incorporando un posterior proceso de **reducción de dimensionalidad con TruncatedSVD**.\n",
        "- Aplicar técnicas de rebalanceo de clases mediante **SMOTE**.\n",
        "- Entrenar un modelo supervisado de clasificación basado en **Logistic Regression** optimizado con búsqueda de hiperparámetros (GridSearch).\n",
        "- Evaluar el desempeño del modelo final a través de métricas de clasificación y matriz de confusión.\n",
        "\n",
        "--------------------------\n",
        "## **Descripción del Dataset**\n",
        "--------------------------\n",
        "\n",
        "El dataset inicial contiene 50,000 registros con la siguiente estructura principal:\n",
        "\n",
        "- **review:** Texto completo de la reseña escrita por el usuario (este será el campo principal para el análisis de sentimientos).\n",
        "- **sentiment:** Etiqueta original de sentimiento (positive o negative) **que en este proyecto no será utilizada** para el entrenamiento, ya que aplicaremos nuestro propio sistema de etiquetado automático.\n",
        "\n",
        "Todo el procesamiento de texto y modelado se centra exclusivamente sobre el campo **review**, considerando su carácter textual libre, informal y variado, lo cual representa un desafío realista para los modelos de análisis de sentimientos.\n",
        "\n",
        "\n"
      ]
    },
    {
      "cell_type": "markdown",
      "metadata": {
        "id": "MQq_ZRiAUzd6"
      },
      "source": [
        "## **Importación de librerías y descarga inicial del dataset**"
      ]
    },
    {
      "cell_type": "code",
      "execution_count": 32,
      "metadata": {
        "colab": {
          "base_uri": "https://localhost:8080/"
        },
        "id": "fi84xV9lU27R",
        "outputId": "c14fc183-ca17-41a3-b8b5-683139cc0ac4"
      },
      "outputs": [
        {
          "output_type": "stream",
          "name": "stderr",
          "text": [
            "[nltk_data] Downloading package punkt_tab to /root/nltk_data...\n",
            "[nltk_data]   Package punkt_tab is already up-to-date!\n",
            "[nltk_data] Downloading package punkt to /root/nltk_data...\n",
            "[nltk_data]   Package punkt is already up-to-date!\n",
            "[nltk_data] Downloading package stopwords to /root/nltk_data...\n",
            "[nltk_data]   Package stopwords is already up-to-date!\n",
            "[nltk_data] Downloading package wordnet to /root/nltk_data...\n",
            "[nltk_data]   Package wordnet is already up-to-date!\n",
            "[nltk_data] Downloading package vader_lexicon to /root/nltk_data...\n",
            "[nltk_data]   Package vader_lexicon is already up-to-date!\n"
          ]
        },
        {
          "output_type": "execute_result",
          "data": {
            "text/plain": [
              "True"
            ]
          },
          "metadata": {},
          "execution_count": 32
        }
      ],
      "source": [
        "# Librerías generales\n",
        "import pandas as pd\n",
        "import numpy as np\n",
        "import re\n",
        "import string\n",
        "\n",
        "# NLP y procesamiento de texto\n",
        "import nltk\n",
        "from nltk.corpus import stopwords\n",
        "from nltk.tokenize import word_tokenize\n",
        "from nltk.stem import WordNetLemmatizer\n",
        "from nltk.sentiment.vader import SentimentIntensityAnalyzer\n",
        "# Librerías de visualización\n",
        "import matplotlib.pyplot as plt\n",
        "import seaborn as sns\n",
        "# Machine Learning\n",
        "from sklearn.decomposition import TruncatedSVD\n",
        "from sklearn.model_selection import train_test_split, GridSearchCV\n",
        "from sklearn.linear_model import LogisticRegression\n",
        "from sklearn.feature_extraction.text import TfidfVectorizer\n",
        "from sklearn.svm import SVC\n",
        "from sklearn.metrics import classification_report, confusion_matrix\n",
        "from imblearn.over_sampling import SMOTE\n",
        "from sklearn.preprocessing import StandardScaler\n",
        "# Descargar recursos de NLTK necesarios\n",
        "nltk.download('punkt_tab')\n",
        "nltk.download('punkt')\n",
        "nltk.download('stopwords')\n",
        "nltk.download('wordnet')\n",
        "nltk.download('vader_lexicon')"
      ]
    },
    {
      "cell_type": "code",
      "execution_count": 2,
      "metadata": {
        "colab": {
          "base_uri": "https://localhost:8080/"
        },
        "id": "K-uAJplGxsHI",
        "outputId": "7da4ce51-b570-4767-ce1d-f1f4b0fe2c8f"
      },
      "outputs": [
        {
          "output_type": "stream",
          "name": "stdout",
          "text": [
            "Path to dataset files: /kaggle/input/imdb-dataset-of-50k-movie-reviews\n"
          ]
        }
      ],
      "source": [
        "import kagglehub\n",
        "\n",
        "# Download latest version\n",
        "path = kagglehub.dataset_download(\"lakshmi25npathi/imdb-dataset-of-50k-movie-reviews\")\n",
        "\n",
        "print(\"Path to dataset files:\", path)"
      ]
    },
    {
      "cell_type": "code",
      "execution_count": 3,
      "metadata": {
        "colab": {
          "base_uri": "https://localhost:8080/"
        },
        "id": "g0EySOeaxu4v",
        "outputId": "106933c6-ba04-4a1e-a827-0e66b3adab74"
      },
      "outputs": [
        {
          "output_type": "stream",
          "name": "stdout",
          "text": [
            "'IMDB Dataset.csv'\n"
          ]
        }
      ],
      "source": [
        "ls /kaggle/input/imdb-dataset-of-50k-movie-reviews"
      ]
    },
    {
      "cell_type": "code",
      "execution_count": 4,
      "metadata": {
        "colab": {
          "base_uri": "https://localhost:8080/"
        },
        "id": "H8TikZQGxzlY",
        "outputId": "ca89371b-aa08-47e2-db35-9d2a63a9759a"
      },
      "outputs": [
        {
          "output_type": "stream",
          "name": "stdout",
          "text": [
            "                                              review sentiment\n",
            "0  One of the other reviewers has mentioned that ...  positive\n",
            "1  A wonderful little production. <br /><br />The...  positive\n",
            "2  I thought this was a wonderful way to spend ti...  positive\n",
            "3  Basically there's a family where a little boy ...  negative\n",
            "4  Petter Mattei's \"Love in the Time of Money\" is...  positive\n"
          ]
        }
      ],
      "source": [
        "csv_file_path = f\"{path}/IMDB Dataset.csv\"\n",
        "df = pd.read_csv(csv_file_path)\n",
        "print(df.head())"
      ]
    },
    {
      "cell_type": "code",
      "execution_count": null,
      "metadata": {
        "colab": {
          "base_uri": "https://localhost:8080/"
        },
        "id": "ad58puN9a2RQ",
        "outputId": "d50e6017-6619-4c77-c9d4-83dc83f523f1"
      },
      "outputs": [
        {
          "name": "stdout",
          "output_type": "stream",
          "text": [
            "El dataset contiene 50000 filas y 2 columnas.\n"
          ]
        }
      ],
      "source": [
        "# Dimensión del dataset\n",
        "print(f\"El dataset contiene {df.shape[0]} filas y {df.shape[1]} columnas.\")"
      ]
    },
    {
      "cell_type": "code",
      "execution_count": null,
      "metadata": {
        "colab": {
          "base_uri": "https://localhost:8080/"
        },
        "id": "gu7nlA9Ga3lA",
        "outputId": "e8c310ee-d500-4904-a7ac-45b2d701e423"
      },
      "outputs": [
        {
          "name": "stdout",
          "output_type": "stream",
          "text": [
            "<class 'pandas.core.frame.DataFrame'>\n",
            "RangeIndex: 50000 entries, 0 to 49999\n",
            "Data columns (total 2 columns):\n",
            " #   Column     Non-Null Count  Dtype \n",
            "---  ------     --------------  ----- \n",
            " 0   review     50000 non-null  object\n",
            " 1   sentiment  50000 non-null  object\n",
            "dtypes: object(2)\n",
            "memory usage: 781.4+ KB\n"
          ]
        }
      ],
      "source": [
        "# Revisión de tipos de datos y valores nulos\n",
        "df.info()"
      ]
    },
    {
      "cell_type": "code",
      "execution_count": null,
      "metadata": {
        "colab": {
          "base_uri": "https://localhost:8080/",
          "height": 147
        },
        "id": "uc2q84OTa4xI",
        "outputId": "3a8fee4f-52bd-48dd-988e-99ca1f3e763b"
      },
      "outputs": [
        {
          "data": {
            "text/html": [
              "<div>\n",
              "<style scoped>\n",
              "    .dataframe tbody tr th:only-of-type {\n",
              "        vertical-align: middle;\n",
              "    }\n",
              "\n",
              "    .dataframe tbody tr th {\n",
              "        vertical-align: top;\n",
              "    }\n",
              "\n",
              "    .dataframe thead th {\n",
              "        text-align: right;\n",
              "    }\n",
              "</style>\n",
              "<table border=\"1\" class=\"dataframe\">\n",
              "  <thead>\n",
              "    <tr style=\"text-align: right;\">\n",
              "      <th></th>\n",
              "      <th>0</th>\n",
              "    </tr>\n",
              "  </thead>\n",
              "  <tbody>\n",
              "    <tr>\n",
              "      <th>review</th>\n",
              "      <td>0</td>\n",
              "    </tr>\n",
              "    <tr>\n",
              "      <th>sentiment</th>\n",
              "      <td>0</td>\n",
              "    </tr>\n",
              "  </tbody>\n",
              "</table>\n",
              "</div><br><label><b>dtype:</b> int64</label>"
            ],
            "text/plain": [
              "review       0\n",
              "sentiment    0\n",
              "dtype: int64"
            ]
          },
          "execution_count": 10,
          "metadata": {},
          "output_type": "execute_result"
        }
      ],
      "source": [
        "# Conteo de valores nulos por columna\n",
        "df.isnull().sum()"
      ]
    },
    {
      "cell_type": "code",
      "source": [
        "\n",
        "\n",
        "# Guardamos un backup\n",
        "dfbackup = df.copy()\n",
        "\n",
        "# hacemos una elección aleatoria del 50% de datos\n",
        "df_sampled = df.sample(frac=0.5, random_state=42)\n",
        "\n",
        "# df contiene ahora solo el 50% de datos\n",
        "df = df_sampled\n",
        "print(f\"El nuevo dataset contiene {df.shape[0]} filas y {df.shape[1]} columnas.\")\n",
        "print(df.head())"
      ],
      "metadata": {
        "colab": {
          "base_uri": "https://localhost:8080/"
        },
        "id": "-A_2CnmoG9zX",
        "outputId": "394b2489-c4f2-4211-d005-b05b46fbf497"
      },
      "execution_count": 5,
      "outputs": [
        {
          "output_type": "stream",
          "name": "stdout",
          "text": [
            "El nuevo dataset contiene 25000 filas y 2 columnas.\n",
            "                                                  review sentiment\n",
            "33553  I really liked this Summerslam due to the look...  positive\n",
            "9427   Not many television shows appeal to quite as m...  positive\n",
            "199    The film quickly gets to a major chase scene w...  negative\n",
            "12447  Jane Austen would definitely approve of this o...  positive\n",
            "39489  Expectations were somewhat high for me when I ...  negative\n"
          ]
        }
      ]
    },
    {
      "cell_type": "markdown",
      "metadata": {
        "id": "y2kJksQ0a6EQ"
      },
      "source": [
        "### **Revisión específica del campo de análisis: 'review'**\n"
      ]
    },
    {
      "cell_type": "code",
      "execution_count": 6,
      "metadata": {
        "id": "Ar3gSx_Oa7j_"
      },
      "outputs": [],
      "source": [
        "# Longitud de las reseñas\n",
        "df['review_length'] = df['review'].apply(lambda x: len(str(x).split()))\n"
      ]
    },
    {
      "cell_type": "code",
      "execution_count": 7,
      "metadata": {
        "colab": {
          "base_uri": "https://localhost:8080/",
          "height": 565
        },
        "id": "lOOZvvz5a87n",
        "outputId": "d2bd4352-2dbb-46da-8f96-a0a3d680008a"
      },
      "outputs": [
        {
          "output_type": "display_data",
          "data": {
            "text/plain": [
              "<Figure size 1000x600 with 1 Axes>"
            ],
            "image/png": "[encoded data removed]"
          },
          "metadata": {}
        }
      ],
      "source": [
        "# Distribución de la longitud de las reseñas\n",
        "plt.figure(figsize=(10,6))\n",
        "sns.histplot(df['review_length'], bins=30, kde=True)\n",
        "plt.title(\"Distribución de longitud de reseñas (número de palabras)\")\n",
        "plt.xlabel(\"Cantidad de palabras\")\n",
        "plt.ylabel(\"Frecuencia\")\n",
        "plt.grid()\n",
        "plt.show()"
      ]
    },
    {
      "cell_type": "markdown",
      "metadata": {
        "id": "kshoKJlka_gW"
      },
      "source": [
        "**Comentario:** Las reseñas presentan una longitud variable bastante amplia, con muchas concentradas entre 10 y 250 palabras"
      ]
    },
    {
      "cell_type": "markdown",
      "metadata": {
        "id": "fmpT3gzWbo8_"
      },
      "source": [
        "## **Limpieza y preprocesamiento de texto**\n",
        "\n"
      ]
    },
    {
      "cell_type": "markdown",
      "metadata": {
        "id": "mjM3eK6lbqAt"
      },
      "source": [
        "### **Definición de función de limpieza**"
      ]
    },
    {
      "cell_type": "code",
      "execution_count": 8,
      "metadata": {
        "id": "cQ2AngUPbwNs"
      },
      "outputs": [],
      "source": [
        "def clean_text(text):\n",
        "    # Convertir a minúsculas\n",
        "    text = text.lower()\n",
        "    # Eliminar texto entre corchetes\n",
        "    text = re.sub('\\[.*?\\]', '', text)\n",
        "    # Eliminar números\n",
        "    text = re.sub(r'\\d+', '', text)\n",
        "    # Eliminar signos de puntuación\n",
        "    text = text.translate(str.maketrans('', '', string.punctuation))\n",
        "    # Eliminar caracteres no alfabéticos\n",
        "    text = re.sub(r'[^a-zA-Z\\s]', '', text)\n",
        "    # Eliminar espacios extras\n",
        "    text = re.sub(r'\\s+', ' ', text).strip()\n",
        "    return text"
      ]
    },
    {
      "cell_type": "markdown",
      "metadata": {
        "id": "uUpXsZyhbygk"
      },
      "source": [
        "### **Aplicar limpieza básica**"
      ]
    },
    {
      "cell_type": "code",
      "execution_count": 9,
      "metadata": {
        "id": "eaLRVzMkbz8U"
      },
      "outputs": [],
      "source": [
        "# Aplicar limpieza básica\n",
        "df['clean_review'] = df['review'].astype(str).apply(clean_text)"
      ]
    },
    {
      "cell_type": "markdown",
      "metadata": {
        "id": "_LWIhuOIb1hN"
      },
      "source": [
        "### **Eliminación de stopwords y lematización**"
      ]
    },
    {
      "cell_type": "markdown",
      "metadata": {
        "id": "SiCpieqTeZKi"
      },
      "source": [
        "En esta etapa eliminamos palabras vacías (stopwords), es decir, aquellas que son muy comunes en el idioma pero que aportan poca información semántica para el análisis (como \"the\", \"and\", \"is\"). Además, aplicamos **lematización**, que permite reducir cada palabra a su forma base (por ejemplo, \"running\" se transforma en \"run\"). Esto reduce la dimensionalidad del vocabulario y mejora la calidad de las representaciones numéricas que generaremos más adelante."
      ]
    },
    {
      "cell_type": "code",
      "execution_count": 10,
      "metadata": {
        "id": "_Far6ILOb5RV"
      },
      "outputs": [],
      "source": [
        "lemmatizer = WordNetLemmatizer()\n",
        "stop_words = set(stopwords.words('english'))\n",
        "\n",
        "# Función completa de preprocesamiento\n",
        "def preprocess_text(text):\n",
        "    words = word_tokenize(text)\n",
        "    words = [lemmatizer.lemmatize(w) for w in words if w not in stop_words]\n",
        "    return ' '.join(words)"
      ]
    },
    {
      "cell_type": "code",
      "execution_count": 11,
      "metadata": {
        "id": "YbgmUmQWb8-7"
      },
      "outputs": [],
      "source": [
        "# Aplicar preprocesamiento completo\n",
        "df['processed_review'] = df['clean_review'].apply(preprocess_text)"
      ]
    },
    {
      "cell_type": "markdown",
      "metadata": {
        "id": "XOEX5Npeb3e8"
      },
      "source": [
        "### **Visualización de algunas reseñas limpias**"
      ]
    },
    {
      "cell_type": "code",
      "execution_count": 12,
      "metadata": {
        "colab": {
          "base_uri": "https://localhost:8080/",
          "height": 363
        },
        "id": "9jaTCGTAcZTb",
        "outputId": "107ee7fa-a3b6-4251-9c3f-a5f37c1eb37e"
      },
      "outputs": [
        {
          "output_type": "execute_result",
          "data": {
            "text/plain": [
              "                                                  review  \\\n",
              "33553  I really liked this Summerslam due to the look...   \n",
              "9427   Not many television shows appeal to quite as m...   \n",
              "199    The film quickly gets to a major chase scene w...   \n",
              "12447  Jane Austen would definitely approve of this o...   \n",
              "39489  Expectations were somewhat high for me when I ...   \n",
              "42724  I've watched this movie on a fairly regular ba...   \n",
              "10822  For once a story of hope highlighted over the ...   \n",
              "49498  Okay, I didn't get the Purgatory thing the fir...   \n",
              "4144   I was very disappointed with this series. It h...   \n",
              "36958  The first 30 minutes of Tinseltown had my fing...   \n",
              "\n",
              "                                        processed_review  \n",
              "33553  really liked summerslam due look arena curtain...  \n",
              "9427   many television show appeal quite many differe...  \n",
              "199    film quickly get major chase scene ever increa...  \n",
              "12447  jane austen would definitely approve onebr br ...  \n",
              "39489  expectation somewhat high went see movie thoug...  \n",
              "42724  ive watched movie fairly regular basis life ne...  \n",
              "10822  story hope highlighted tragic reality youth fa...  \n",
              "49498  okay didnt get purgatory thing first time watc...  \n",
              "4144   disappointed series lot cool graphic thats lev...  \n",
              "36958  first minute tinseltown finger teetering remot...  "
            ],
            "text/html": [
              "\n",
              "  <div id=\"df-f20210bb-edd3-40e2-875c-56004d73899e\" class=\"colab-df-container\">\n",
              "    <div>\n",
              "<style scoped>\n",
              "    .dataframe tbody tr th:only-of-type {\n",
              "        vertical-align: middle;\n",
              "    }\n",
              "\n",
              "    .dataframe tbody tr th {\n",
              "        vertical-align: top;\n",
              "    }\n",
              "\n",
              "    .dataframe thead th {\n",
              "        text-align: right;\n",
              "    }\n",
              "</style>\n",
              "<table border=\"1\" class=\"dataframe\">\n",
              "  <thead>\n",
              "    <tr style=\"text-align: right;\">\n",
              "      <th></th>\n",
              "      <th>review</th>\n",
              "      <th>processed_review</th>\n",
              "    </tr>\n",
              "  </thead>\n",
              "  <tbody>\n",
              "    <tr>\n",
              "      <th>33553</th>\n",
              "      <td>I really liked this Summerslam due to the look...</td>\n",
              "      <td>really liked summerslam due look arena curtain...</td>\n",
              "    </tr>\n",
              "    <tr>\n",
              "      <th>9427</th>\n",
              "      <td>Not many television shows appeal to quite as m...</td>\n",
              "      <td>many television show appeal quite many differe...</td>\n",
              "    </tr>\n",
              "    <tr>\n",
              "      <th>199</th>\n",
              "      <td>The film quickly gets to a major chase scene w...</td>\n",
              "      <td>film quickly get major chase scene ever increa...</td>\n",
              "    </tr>\n",
              "    <tr>\n",
              "      <th>12447</th>\n",
              "      <td>Jane Austen would definitely approve of this o...</td>\n",
              "      <td>jane austen would definitely approve onebr br ...</td>\n",
              "    </tr>\n",
              "    <tr>\n",
              "      <th>39489</th>\n",
              "      <td>Expectations were somewhat high for me when I ...</td>\n",
              "      <td>expectation somewhat high went see movie thoug...</td>\n",
              "    </tr>\n",
              "    <tr>\n",
              "      <th>42724</th>\n",
              "      <td>I've watched this movie on a fairly regular ba...</td>\n",
              "      <td>ive watched movie fairly regular basis life ne...</td>\n",
              "    </tr>\n",
              "    <tr>\n",
              "      <th>10822</th>\n",
              "      <td>For once a story of hope highlighted over the ...</td>\n",
              "      <td>story hope highlighted tragic reality youth fa...</td>\n",
              "    </tr>\n",
              "    <tr>\n",
              "      <th>49498</th>\n",
              "      <td>Okay, I didn't get the Purgatory thing the fir...</td>\n",
              "      <td>okay didnt get purgatory thing first time watc...</td>\n",
              "    </tr>\n",
              "    <tr>\n",
              "      <th>4144</th>\n",
              "      <td>I was very disappointed with this series. It h...</td>\n",
              "      <td>disappointed series lot cool graphic thats lev...</td>\n",
              "    </tr>\n",
              "    <tr>\n",
              "      <th>36958</th>\n",
              "      <td>The first 30 minutes of Tinseltown had my fing...</td>\n",
              "      <td>first minute tinseltown finger teetering remot...</td>\n",
              "    </tr>\n",
              "  </tbody>\n",
              "</table>\n",
              "</div>\n",
              "    <div class=\"colab-df-buttons\">\n",
              "\n",
              "  <div class=\"colab-df-container\">\n",
              "    <button class=\"colab-df-convert\" onclick=\"convertToInteractive('df-f20210bb-edd3-40e2-875c-56004d73899e')\"\n",
              "            title=\"Convert this dataframe to an interactive table.\"\n",
              "            style=\"display:none;\">\n",
              "\n",
              "  <svg xmlns=\"http://www.w3.org/2000/svg\" height=\"24px\" viewBox=\"0 -960 960 960\">\n",
              "    <path d=\"M120-120v-720h720v720H120Zm60-500h600v-160H180v160Zm220 220h160v-160H400v160Zm0 220h160v-160H400v160ZM180-400h160v-160H180v160Zm440 0h160v-160H620v160ZM180-180h160v-160H180v160Zm440 0h160v-160H620v160Z\"/>\n",
              "  </svg>\n",
              "    </button>\n",
              "\n",
              "  <style>\n",
              "    .colab-df-container {\n",
              "      display:flex;\n",
              "      gap: 12px;\n",
              "    }\n",
              "\n",
              "    .colab-df-convert {\n",
              "      background-color: #E8F0FE;\n",
              "      border: none;\n",
              "      border-radius: 50%;\n",
              "      cursor: pointer;\n",
              "      display: none;\n",
              "      fill: #1967D2;\n",
              "      height: 32px;\n",
              "      padding: 0 0 0 0;\n",
              "      width: 32px;\n",
              "    }\n",
              "\n",
              "    .colab-df-convert:hover {\n",
              "      background-color: #E2EBFA;\n",
              "      box-shadow: 0px 1px 2px rgba(60, 64, 67, 0.3), 0px 1px 3px 1px rgba(60, 64, 67, 0.15);\n",
              "      fill: #174EA6;\n",
              "    }\n",
              "\n",
              "    .colab-df-buttons div {\n",
              "      margin-bottom: 4px;\n",
              "    }\n",
              "\n",
              "    [theme=dark] .colab-df-convert {\n",
              "      background-color: #3B4455;\n",
              "      fill: #D2E3FC;\n",
              "    }\n",
              "\n",
              "    [theme=dark] .colab-df-convert:hover {\n",
              "      background-color: #434B5C;\n",
              "      box-shadow: 0px 1px 3px 1px rgba(0, 0, 0, 0.15);\n",
              "      filter: drop-shadow(0px 1px 2px rgba(0, 0, 0, 0.3));\n",
              "      fill: #FFFFFF;\n",
              "    }\n",
              "  </style>\n",
              "\n",
              "    <script>\n",
              "      const buttonEl =\n",
              "        document.querySelector('#df-f20210bb-edd3-40e2-875c-56004d73899e button.colab-df-convert');\n",
              "      buttonEl.style.display =\n",
              "        google.colab.kernel.accessAllowed ? 'block' : 'none';\n",
              "\n",
              "      async function convertToInteractive(key) {\n",
              "        const element = document.querySelector('#df-f20210bb-edd3-40e2-875c-56004d73899e');\n",
              "        const dataTable =\n",
              "          await google.colab.kernel.invokeFunction('convertToInteractive',\n",
              "                                                    [key], {});\n",
              "        if (!dataTable) return;\n",
              "\n",
              "        const docLinkHtml = 'Like what you see? Visit the ' +\n",
              "          '<a target=\"_blank\" href=https://colab.research.google.com/notebooks/data_table.ipynb>data table notebook</a>'\n",
              "          + ' to learn more about interactive tables.';\n",
              "        element.innerHTML = '';\n",
              "        dataTable['output_type'] = 'display_data';\n",
              "        await google.colab.output.renderOutput(dataTable, element);\n",
              "        const docLink = document.createElement('div');\n",
              "        docLink.innerHTML = docLinkHtml;\n",
              "        element.appendChild(docLink);\n",
              "      }\n",
              "    </script>\n",
              "  </div>\n",
              "\n",
              "\n",
              "    <div id=\"df-3501d19f-6e60-42e9-87c5-37d94af8da1d\">\n",
              "      <button class=\"colab-df-quickchart\" onclick=\"quickchart('df-3501d19f-6e60-42e9-87c5-37d94af8da1d')\"\n",
              "                title=\"Suggest charts\"\n",
              "                style=\"display:none;\">\n",
              "\n",
              "<svg xmlns=\"http://www.w3.org/2000/svg\" height=\"24px\"viewBox=\"0 0 24 24\"\n",
              "     width=\"24px\">\n",
              "    <g>\n",
              "        <path d=\"M19 3H5c-1.1 0-2 .9-2 2v14c0 1.1.9 2 2 2h14c1.1 0 2-.9 2-2V5c0-1.1-.9-2-2-2zM9 17H7v-7h2v7zm4 0h-2V7h2v10zm4 0h-2v-4h2v4z\"/>\n",
              "    </g>\n",
              "</svg>\n",
              "      </button>\n",
              "\n",
              "<style>\n",
              "  .colab-df-quickchart {\n",
              "      --bg-color: #E8F0FE;\n",
              "      --fill-color: #1967D2;\n",
              "      --hover-bg-color: #E2EBFA;\n",
              "      --hover-fill-color: #174EA6;\n",
              "      --disabled-fill-color: #AAA;\n",
              "      --disabled-bg-color: #DDD;\n",
              "  }\n",
              "\n",
              "  [theme=dark] .colab-df-quickchart {\n",
              "      --bg-color: #3B4455;\n",
              "      --fill-color: #D2E3FC;\n",
              "      --hover-bg-color: #434B5C;\n",
              "      --hover-fill-color: #FFFFFF;\n",
              "      --disabled-bg-color: #3B4455;\n",
              "      --disabled-fill-color: #666;\n",
              "  }\n",
              "\n",
              "  .colab-df-quickchart {\n",
              "    background-color: var(--bg-color);\n",
              "    border: none;\n",
              "    border-radius: 50%;\n",
              "    cursor: pointer;\n",
              "    display: none;\n",
              "    fill: var(--fill-color);\n",
              "    height: 32px;\n",
              "    padding: 0;\n",
              "    width: 32px;\n",
              "  }\n",
              "\n",
              "  .colab-df-quickchart:hover {\n",
              "    background-color: var(--hover-bg-color);\n",
              "    box-shadow: 0 1px 2px rgba(60, 64, 67, 0.3), 0 1px 3px 1px rgba(60, 64, 67, 0.15);\n",
              "    fill: var(--button-hover-fill-color);\n",
              "  }\n",
              "\n",
              "  .colab-df-quickchart-complete:disabled,\n",
              "  .colab-df-quickchart-complete:disabled:hover {\n",
              "    background-color: var(--disabled-bg-color);\n",
              "    fill: var(--disabled-fill-color);\n",
              "    box-shadow: none;\n",
              "  }\n",
              "\n",
              "  .colab-df-spinner {\n",
              "    border: 2px solid var(--fill-color);\n",
              "    border-color: transparent;\n",
              "    border-bottom-color: var(--fill-color);\n",
              "    animation:\n",
              "      spin 1s steps(1) infinite;\n",
              "  }\n",
              "\n",
              "  @keyframes spin {\n",
              "    0% {\n",
              "      border-color: transparent;\n",
              "      border-bottom-color: var(--fill-color);\n",
              "      border-left-color: var(--fill-color);\n",
              "    }\n",
              "    20% {\n",
              "      border-color: transparent;\n",
              "      border-left-color: var(--fill-color);\n",
              "      border-top-color: var(--fill-color);\n",
              "    }\n",
              "    30% {\n",
              "      border-color: transparent;\n",
              "      border-left-color: var(--fill-color);\n",
              "      border-top-color: var(--fill-color);\n",
              "      border-right-color: var(--fill-color);\n",
              "    }\n",
              "    40% {\n",
              "      border-color: transparent;\n",
              "      border-right-color: var(--fill-color);\n",
              "      border-top-color: var(--fill-color);\n",
              "    }\n",
              "    60% {\n",
              "      border-color: transparent;\n",
              "      border-right-color: var(--fill-color);\n",
              "    }\n",
              "    80% {\n",
              "      border-color: transparent;\n",
              "      border-right-color: var(--fill-color);\n",
              "      border-bottom-color: var(--fill-color);\n",
              "    }\n",
              "    90% {\n",
              "      border-color: transparent;\n",
              "      border-bottom-color: var(--fill-color);\n",
              "    }\n",
              "  }\n",
              "</style>\n",
              "\n",
              "      <script>\n",
              "        async function quickchart(key) {\n",
              "          const quickchartButtonEl =\n",
              "            document.querySelector('#' + key + ' button');\n",
              "          quickchartButtonEl.disabled = true;  // To prevent multiple clicks.\n",
              "          quickchartButtonEl.classList.add('colab-df-spinner');\n",
              "          try {\n",
              "            const charts = await google.colab.kernel.invokeFunction(\n",
              "                'suggestCharts', [key], {});\n",
              "          } catch (error) {\n",
              "            console.error('Error during call to suggestCharts:', error);\n",
              "          }\n",
              "          quickchartButtonEl.classList.remove('colab-df-spinner');\n",
              "          quickchartButtonEl.classList.add('colab-df-quickchart-complete');\n",
              "        }\n",
              "        (() => {\n",
              "          let quickchartButtonEl =\n",
              "            document.querySelector('#df-3501d19f-6e60-42e9-87c5-37d94af8da1d button');\n",
              "          quickchartButtonEl.style.display =\n",
              "            google.colab.kernel.accessAllowed ? 'block' : 'none';\n",
              "        })();\n",
              "      </script>\n",
              "    </div>\n",
              "\n",
              "    </div>\n",
              "  </div>\n"
            ],
            "application/vnd.google.colaboratory.intrinsic+json": {
              "type": "dataframe",
              "summary": "{\n  \"name\": \"df[['review', 'processed_review']]\",\n  \"rows\": 10,\n  \"fields\": [\n    {\n      \"column\": \"review\",\n      \"properties\": {\n        \"dtype\": \"string\",\n        \"num_unique_values\": 10,\n        \"samples\": [\n          \"I was very disappointed with this series. It had lots of cool graphics and that's about it. The level of detail it went into was minimal, and I always got the feeling the audience was being patronized -- there was a lot of what seemed to me as \\\"This is extremely cool but we're not going to explain it in further detail because you won't get it anyway. Let's just show you some pretty pictures to entertain you.\\\" The host would drop interesting-sounding words such as \\\"sparticles\\\" and \\\"super-symmetry\\\" without any attempt at explaining what it was. We had to look it up on Wikipedia.<br /><br />Furthermore, I know quite a bit about superstrings (for a layman) and I found their explanations were convoluted and could have been so much better. They could have chosen MUCH better examples to explain concepts, but instead, the examples they used were confusing and further obscured the subject.<br /><br />Additionally, I got so sick of the repetitiveness. They could easily have condensed the series into one episode if they had cut out all the repetition. They must have shown the clips of the Quantum Caf\\u00e9 about 8 times. The host kept saying the same things over and over and over again. I can't remember how many times he said \\\"The universe is made out of tiny little vibrating strings.\\\" It's like they were trying to brainwash us into just accepting \\\"superstrings are the best thing since sliced bread.\\\"<br /><br />Finally, the show ended off with an unpleasant sense of a \\\"competition\\\" between Fermilab and CERN, clearly biased towards Fermilab. This is supposed to be an educational program about quantum physics, not about whether the US is better than Europe or vice versa! I also felt that was part of the patronizing -- \\\"Audiences need to see some conflict to remain interested.\\\" Please. Give me a little more credit than that.<br /><br />Overall, 2 thumbs down :-(\",\n          \"Not many television shows appeal to quite as many different kinds of fans like Farscape does...I know youngsters and 30/40+ years old;fans both Male and Female in as many different countries as you can think of that just adore this T.V miniseries. It has elements that can be found in almost every other show on T.V, character driven drama that could be from an Australian soap opera; yet in the same episode it has science fact & fiction that would give even the hardiest \\\"Trekkie\\\" a run for his money in the brainbender stakes! Wormhole theory, Time Travel in true equational form...Magnificent. It embraces cultures from all over the map as the possibilities are endless having multiple stars and therefore thousands of planets to choose from.<br /><br />With such a broad scope; it would be expected that nothing would be able to keep up the illusion for long, but here is where \\\"Farscape\\\" really comes into it's own element...It succeeds where all others have failed, especially the likes of Star Trek (a universe with practically zero Kaos element!) They ran out of ideas pretty quickly + kept rehashing them! Over the course of 4 seasons they manage to keep the audience's attention using good continuity and constant character evolution with multiple threads to every episode with unique personal touches to camera that are specific to certain character groups within the whole. This structure allows for an extremely large area of subject matter as loyalties are forged and broken in many ways on many many issues. I happened to see the pilot (Premiere) in passing and just had to keep tuning in after that to see if Crichton would ever \\\"Get the girl\\\", after seeing them all on television I was delighted to see them available on DVD & I have to admit that it was the only thing that kept me sane whilst I had to do a 12 hour night shift and developed chronic insomnia...Farscape was the only thing to get me through those extremely long nights...<br /><br />Do yourself a favour; Watch the pilot and see what I mean...<br /><br />Farscape Comet\",\n          \"I've watched this movie on a fairly regular basis for most of my life, and it never gets old. For all the snide remarks and insults (mostly from David Spade), \\\"Tommy Boy\\\" has a giant heart. And that's what keeps this movie funny after all these years.<br /><br />Tommy Callahan (Chris Farley) is the son of Big Tom Callahan (Brian Dennehy), master car parts salesman, and has ridden on that all his life. But after his died dies on his wedding day, Tommy learns that the company is in debt, and about to be bought by Ray Zalinsky (Dan Akroyd), the owner of a huge car parts company. So in order to save the company, Tommy has to go on the road to sell the company's new brake pads. Along for the ride, though not by choice, is Richard Hayden (David Spade) a former classmate of Tommy's who was Big Tom's right-hand man.<br /><br />The movie rides on the chemistry between the two SNL stars (and real-life best friends) Chris Farley and David Spade. The duo has enough comic energy going between them to power the world. It's the big, dumb guy versus the smart little guy. It works, and some of their scenes are unforgettably funny. Farley and Spade are actually decent dramatic actors as well. Although the film is primarily a comedy, it has its fair share of drama, but Spade and especially Farley are just as good there as when they're making the audience laugh.<br /><br />Forgive me, but I have to talk about Chris Farley a little more. I read his biography (\\\"The Chris Farley Show: A Biography in Three Acts,\\\" for anyone who cares), and understanding who Chris was in real life made this movie more special to me. Chris Farley was a genuinely good person who struggled, and ultimately failed to conquer his addictions. Although this was the first movie he had a major role in, it is his best film. It really showed who he was, and just how much talent he had. Knowing Chris's story adds another layer to this movie, although it doesn't make it any less funny.<br /><br />Farley and Spade are matched with a good on screen cast. Rob Lowe is suitably slimy as Tommy's \\\"new brother,\\\" and Bo Derek is solid as his step-mother. Brian Dennehy is great as Big Tom. Dennehy makes it easy to believe that they're father in son. Big Tom is just as crazy as his son, although he's smarter and more mature. Dan Akroyd gives one of his best performances as Zalinsky, giving Tommy the hard truth behind advertising. Julie Warner is also good as Tommy's love interest, Michelle.<br /><br />For me, Peter Segal is one of the great comedy directors. He keeps the pace quick and energetic, but most importantly, he knows how to make comedy funny. He doesn't belabor the jokes, and he understands that funny actors know what they're doing and he allows them to do it. But Segal goes a step further. He gives \\\"Tommy Boy\\\" a friendly, almost nostalgic tone that both tugs the heartstrings (genuinely) and tickles the funnybone.<br /><br />Critics didn't like \\\"Tommy Boy.\\\" Shame on them. A movie doesn't have to be super sophisticated or subversively intellectual to be funny (God forbid Farley and Spade were forced to do muted comedy a la \\\"The Office\\\"). This is a great movie and one of my all-time favorites.\"\n        ],\n        \"semantic_type\": \"\",\n        \"description\": \"\"\n      }\n    },\n    {\n      \"column\": \"processed_review\",\n      \"properties\": {\n        \"dtype\": \"string\",\n        \"num_unique_values\": 10,\n        \"samples\": [\n          \"disappointed series lot cool graphic thats level detail went minimal always got feeling audience patronized lot seemed extremely cool going explain detail wont get anyway let show pretty picture entertain host would drop interestingsounding word sparticles supersymmetry without attempt explaining look wikipediabr br furthermore know quite bit superstring layman found explanation convoluted could much better could chosen much better example explain concept instead example used confusing obscured subjectbr br additionally got sick repetitiveness could easily condensed series one episode cut repetition must shown clip quantum caf time host kept saying thing cant remember many time said universe made tiny little vibrating string like trying brainwash u accepting superstring best thing since sliced breadbr br finally show ended unpleasant sense competition fermilab cern clearly biased towards fermilab supposed educational program quantum physic whether u better europe vice versa also felt part patronizing audience need see conflict remain interested please give little credit thatbr br overall thumb\",\n          \"many television show appeal quite many different kind fan like farscape doesi know youngster year oldfans male female many different country think adore tv miniseries element found almost every show tv character driven drama could australian soap opera yet episode science fact fiction would give even hardiest trekkie run money brainbender stake wormhole theory time travel true equational formmagnificent embrace culture map possibility endless multiple star therefore thousand planet choose frombr br broad scope would expected nothing would able keep illusion long farscape really come elementit succeeds others failed especially like star trek universe practically zero kaos element ran idea pretty quickly kept rehashing course season manage keep audience attention using good continuity constant character evolution multiple thread every episode unique personal touch camera specific certain character group within whole structure allows extremely large area subject matter loyalty forged broken many way many many issue happened see pilot premiere passing keep tuning see crichton would ever get girl seeing television delighted see available dvd admit thing kept sane whilst hour night shift developed chronic insomniafarscape thing get extremely long nightsbr br favour watch pilot see meanbr br farscape comet\",\n          \"ive watched movie fairly regular basis life never get old snide remark insult mostly david spade tommy boy giant heart thats keep movie funny yearsbr br tommy callahan chris farley son big tom callahan brian dennehy master car part salesman ridden life died dy wedding day tommy learns company debt bought ray zalinsky dan akroyd owner huge car part company order save company tommy go road sell company new brake pad along ride though choice richard hayden david spade former classmate tommys big tom righthand manbr br movie ride chemistry two snl star reallife best friend chris farley david spade duo enough comic energy going power world big dumb guy versus smart little guy work scene unforgettably funny farley spade actually decent dramatic actor well although film primarily comedy fair share drama spade especially farley good theyre making audience laughbr br forgive talk chris farley little read biography chris farley show biography three act anyone care understanding chris real life made movie special chris farley genuinely good person struggled ultimately failed conquer addiction although first movie major role best film really showed much talent knowing chriss story add another layer movie although doesnt make less funnybr br farley spade matched good screen cast rob lowe suitably slimy tommys new brother bo derek solid stepmother brian dennehy great big tom dennehy make easy believe theyre father son big tom crazy son although he smarter mature dan akroyd give one best performance zalinsky giving tommy hard truth behind advertising julie warner also good tommys love interest michellebr br peter segal one great comedy director keep pace quick energetic importantly know make comedy funny doesnt belabor joke understands funny actor know theyre allows segal go step give tommy boy friendly almost nostalgic tone tug heartstrings genuinely tickle funnybonebr br critic didnt like tommy boy shame movie doesnt super sophisticated subversively intellectual funny god forbid farley spade forced muted comedy la office great movie one alltime favorite\"\n        ],\n        \"semantic_type\": \"\",\n        \"description\": \"\"\n      }\n    }\n  ]\n}"
            }
          },
          "metadata": {},
          "execution_count": 12
        }
      ],
      "source": [
        "# Mostrar ejemplos antes y después de la limpieza\n",
        "df[['review', 'processed_review']].head(10)"
      ]
    },
    {
      "cell_type": "markdown",
      "metadata": {
        "id": "H0sPgaZ0ccpy"
      },
      "source": [
        "**Comentario:** Tras el preprocesamiento, los textos quedan estandarizados, sin ruido de puntuación, stopwords ni plurales, lo que facilita su vectorización y análisis posterior."
      ]
    },
    {
      "cell_type": "markdown",
      "metadata": {
        "id": "riAnRxSwgEE9"
      },
      "source": [
        "## **Generación de etiquetas automáticas con VADER**"
      ]
    },
    {
      "cell_type": "markdown",
      "metadata": {
        "id": "s8RyZidjgC5g"
      },
      "source": [
        "\n",
        "### **Aplicación del modelo VADER para análisis de sentimientos**"
      ]
    },
    {
      "cell_type": "markdown",
      "metadata": {
        "id": "Ok3xvmDggHJf"
      },
      "source": [
        "**Explicación:**\n",
        "\n",
        "VADER (Valence Aware Dictionary and sEntiment Reasoner) es un modelo basado en reglas y diccionario, especializado en análisis de sentimientos en inglés. Evaluaremos cada reseña procesada obteniendo un score de sentimiento, y a partir de ese score generaremos etiquetas de clasificación binaria: **positivo** o **negativo**.\n"
      ]
    },
    {
      "cell_type": "code",
      "execution_count": 13,
      "metadata": {
        "id": "1_rG6R3EgMl-"
      },
      "outputs": [],
      "source": [
        "# Inicializar el analizador VADER\n",
        "sid = SentimentIntensityAnalyzer()\n",
        "\n",
        "# Función para asignar etiquetas de sentimiento\n",
        "def vader_sentiment(text):\n",
        "    score = sid.polarity_scores(text)['compound']\n",
        "    if score >= 0.05:\n",
        "        return 'positive'\n",
        "    elif score <= -0.05:\n",
        "        return 'negative'\n",
        "    else:\n",
        "        return 'neutral'"
      ]
    },
    {
      "cell_type": "code",
      "execution_count": 14,
      "metadata": {
        "id": "uNiXoXgpgPuC"
      },
      "outputs": [],
      "source": [
        "# Aplicar VADER sobre los textos preprocesados\n",
        "df['sentiment'] = df['processed_review'].apply(vader_sentiment)"
      ]
    },
    {
      "cell_type": "code",
      "execution_count": 15,
      "metadata": {
        "colab": {
          "base_uri": "https://localhost:8080/",
          "height": 472
        },
        "id": "zMfqoRFVgRlt",
        "outputId": "196e3c19-8167-4cb0-bc21-b927a93a01cd"
      },
      "outputs": [
        {
          "output_type": "display_data",
          "data": {
            "text/plain": [
              "<Figure size 640x480 with 1 Axes>"
            ],
            "image/png": "[encoded data removed]"
          },
          "metadata": {}
        }
      ],
      "source": [
        "# Visualizar el balance de clases generado\n",
        "sns.countplot(x='sentiment', data=df)\n",
        "plt.title(\"Distribución de clases generadas por VADER\")\n",
        "plt.xlabel(\"Sentimiento\")\n",
        "plt.ylabel(\"Cantidad de muestras\")\n",
        "plt.grid()\n",
        "plt.show()"
      ]
    },
    {
      "cell_type": "markdown",
      "metadata": {
        "id": "eppq09HzgUIo"
      },
      "source": [
        "\n",
        "**Comentario:** A partir de los scores generados por VADER, observamos una distribución algo desbalanceada, donde predominan las reseñas clasificadas como \"positivas\", seguidas por \"negativas\" y un grupo menor de \"neutrales\". Este ligero desequilibrio será importante tenerlo en cuenta al entrenar el modelo supervisado posterior.\n"
      ]
    },
    {
      "cell_type": "markdown",
      "metadata": {
        "id": "H3K6Ar2zjQQ1"
      },
      "source": [
        "## **Vectorización de texto utilizando TF-IDF**"
      ]
    },
    {
      "cell_type": "markdown",
      "metadata": {
        "id": "L_iTVUKDjS_n"
      },
      "source": [
        "Antes de entrenar cualquier modelo supervisado, es necesario convertir el texto en representaciones numéricas. Para ello usamos **TF-IDF (Term Frequency - Inverse Document Frequency)**, una técnica que permite valorar la importancia relativa de cada palabra dentro del corpus de textos:\n",
        "\n",
        "- **TF (Frecuencia de Término):** mide cuántas veces aparece una palabra en un documento.\n",
        "- **IDF (Frecuencia Inversa de Documento):** penaliza las palabras muy frecuentes en todos los documentos.\n",
        "\n",
        "El resultado es una representación vectorial donde cada texto queda expresado por sus términos más relevantes, reduciendo ruido y mejorando la calidad de los modelos de clasificación.\n"
      ]
    },
    {
      "cell_type": "markdown",
      "metadata": {
        "id": "BbUrRiyojipt"
      },
      "source": [
        "\n",
        "### **Filtrado para clasificación binaria (solo positivos y negativos)**"
      ]
    },
    {
      "cell_type": "markdown",
      "metadata": {
        "id": "hCBII4cBlhQ_"
      },
      "source": [
        "**Comentario:**  En este análisis hemos optado por transformar el problema en binario (positivo vs negativo). Esto se debe a que el modelo VADER es generalmente más fiable en los extremos positivos y negativos, mientras que la categoría \"neutral\" suele ser más ambigua y representa un porcentaje bajo . Al eliminar la clase neutral simplificamos el problema, mejoramos la robustez del modelo y nos centramos en las polaridades claras del sentimiento."
      ]
    },
    {
      "cell_type": "code",
      "execution_count": 16,
      "metadata": {
        "id": "wGGc_TjUjQ7W"
      },
      "outputs": [],
      "source": [
        "# Filtramos solo las clases que vamos a utilizar en clasificación binaria\n",
        "binary_df = df[df['sentiment'].isin(['positive', 'negative'])]"
      ]
    },
    {
      "cell_type": "markdown",
      "metadata": {
        "id": "NCDJUKjKkS5S"
      },
      "source": [
        "### **Aplicación de TF-IDF**"
      ]
    },
    {
      "cell_type": "code",
      "execution_count": 17,
      "metadata": {
        "id": "tCa_SAoIkVcS"
      },
      "outputs": [],
      "source": [
        "# Inicializamos el vectorizador\n",
        "vectorizer = TfidfVectorizer(max_features=10000, ngram_range=(1,2))\n",
        "\n",
        "# Aplicamos la vectorización sobre los textos preprocesados\n",
        "X_tfidf = vectorizer.fit_transform(binary_df['processed_review'])\n",
        "\n",
        "# Definimos el vector de etiquetas\n",
        "y = binary_df['sentiment'].map({'positive': 1, 'negative': 0})"
      ]
    },
    {
      "cell_type": "markdown",
      "metadata": {
        "id": "X4Efb75kBnpj"
      },
      "source": [
        "## **Análisis exploratorio de la reducción de dimensionalidad**"
      ]
    },
    {
      "cell_type": "code",
      "execution_count": null,
      "metadata": {
        "id": "QE78v_V7BrMP"
      },
      "outputs": [],
      "source": [
        "# Ajustamos inicialmente un SVD con muchos componentes para analizar la varianza explicada\n",
        "svd_analysis = TruncatedSVD(n_components=8000, random_state=42)\n",
        "svd_analysis.fit(X_tfidf)\n"
      ]
    },
    {
      "cell_type": "code",
      "source": [
        "\n",
        "# Calculamos la varianza acumulada\n",
        "varianza_acumulada = np.cumsum(svd_analysis.explained_variance_ratio_)\n",
        "\n",
        "# Visualización de la curva de varianza explicada acumulada\n",
        "plt.figure(figsize=(10,6))\n",
        "plt.plot(varianza_acumulada, marker='.')\n",
        "plt.axhline(y=0.90, color='r', linestyle='--', label='90% Varianza')\n",
        "plt.axhline(y=0.95, color='g', linestyle='--', label='95% Varianza')\n",
        "plt.xlabel(\"Número de Componentes\")\n",
        "plt.ylabel(\"Varianza Explicada Acumulada\")\n",
        "plt.title(\"Curva de Varianza Explicada por Truncated SVD\")\n",
        "plt.legend()\n",
        "plt.grid()\n",
        "plt.show()\n",
        "\n",
        "# Identificamos el número mínimo de componentes para 95% de varianza\n",
        "optimal_components = np.where(varianza_acumulada >= 0.90)[0][0] + 1\n",
        "print(f\"Número óptimo de componentes para retener 90% varianza: {optimal_components}\")"
      ],
      "metadata": {
        "colab": {
          "base_uri": "https://localhost:8080/",
          "height": 582
        },
        "id": "2OE5yAaZLYor",
        "outputId": "bf467a74-93ba-4b1c-c917-356f83dfd511"
      },
      "execution_count": 20,
      "outputs": [
        {
          "output_type": "display_data",
          "data": {
            "text/plain": [
              "<Figure size 1000x600 with 1 Axes>"
            ],
            "image/png": "[encoded data removed]"
          },
          "metadata": {}
        },
        {
          "output_type": "stream",
          "name": "stdout",
          "text": [
            "Número óptimo de componentes para retener 90% varianza: 5483\n"
          ]
        }
      ]
    },
    {
      "cell_type": "markdown",
      "source": [
        "Como observamos en el gráfico:\n",
        "\n",
        "- La curva es típicamente exponencial, subiendo rápido al principio y luego estabilizándose.\n",
        "- Para alcanzar un **90% de varianza explicada**, aproximadamente necesitamos cerca de **6000 componentes**.\n",
        "- Para llegar al **95% de varianza explicada**, requerimos ya más de **7000 componentes**.\n"
      ],
      "metadata": {
        "id": "kcrPLmGILA-e"
      }
    },
    {
      "cell_type": "markdown",
      "source": [
        "### **¿Por qué puede ser razonable elegir el 90% como umbral óptimo?**\n",
        "\n",
        "- El incremento de varianza explicada entre 90% y 95% es bastante costoso computacionalmente (más de 1000 componentes adicionales por apenas 5% de ganancia).\n",
        "- Este fenómeno es típico en problemas de procesamiento de lenguaje natural (NLP): después de cierto punto, la información marginal capturada por más componentes empieza a incluir ruido o patrones esporádicos.\n",
        "- El **trade-off** entre mantener buena capacidad predictiva y reducir el costo computacional justifica perfectamente trabajar con un umbral conservador de **90%**."
      ],
      "metadata": {
        "id": "HvqNWekULIFt"
      }
    },
    {
      "cell_type": "markdown",
      "metadata": {
        "id": "EV7xX4Ai_21n"
      },
      "source": [
        "## **Reducción de dimensionalidad con Truncated SVD**"
      ]
    },
    {
      "cell_type": "code",
      "execution_count": 21,
      "metadata": {
        "id": "GcIJZTyG_9_L"
      },
      "outputs": [],
      "source": [
        "\n",
        "# Reducimos a 300 componentes para acelerar el entrenamiento sin perder demasiada información\n",
        "svd = TruncatedSVD(n_components=optimal_components, random_state=42)\n",
        "X_reduced = svd.fit_transform(X_tfidf)"
      ]
    },
    {
      "cell_type": "markdown",
      "metadata": {
        "id": "64qhxBFioKyb"
      },
      "source": [
        "### **Rebalanceo de datos con SMOTE**"
      ]
    },
    {
      "cell_type": "code",
      "execution_count": 22,
      "metadata": {
        "id": "sUwBW_zmoLU-"
      },
      "outputs": [],
      "source": [
        "smote = SMOTE(random_state=42)\n",
        "X_resampled, y_resampled = smote.fit_resample(X_reduced, y)"
      ]
    },
    {
      "cell_type": "code",
      "source": [
        "\n",
        "# Mostrar el balance de clases después del SMOTE\n",
        "print(\"Distribución de clases después del rebalanceo:\")\n",
        "print(pd.Series(y_resampled).value_counts())"
      ],
      "metadata": {
        "colab": {
          "base_uri": "https://localhost:8080/"
        },
        "id": "1IgEQYKXToX3",
        "outputId": "1f43f8d5-69df-4464-d1b6-b39cfb28f295"
      },
      "execution_count": 25,
      "outputs": [
        {
          "output_type": "stream",
          "name": "stdout",
          "text": [
            "Distribución de clases después del rebalanceo:\n",
            "sentiment\n",
            "1    17051\n",
            "0    17051\n",
            "Name: count, dtype: int64\n"
          ]
        }
      ]
    },
    {
      "cell_type": "markdown",
      "source": [
        "## **Normalización de las variables (Estandarización)**"
      ],
      "metadata": {
        "id": "YVZEmd9lTsbd"
      }
    },
    {
      "cell_type": "markdown",
      "source": [
        "### **Observaciones**\n",
        "\n",
        "Aunque el proceso de Truncated SVD reduce la dimensionalidad de la matriz TF-IDF, las nuevas variables (componentes) resultantes pueden tener escalas muy diferentes entre sí, es decir, algunos componentes pueden tener mayor varianza que otros. Si no estandarizamos estas escalas, el modelo supervisado (Logistic Regression) puede asignar excesiva importancia a las dimensiones con mayor magnitud numérica, distorsionando el proceso de aprendizaje.\n",
        "\n",
        "La estandarización garantiza que **todas las variables tengan media cero y varianza uno**, permitiendo que el modelo logístico trate todos los componentes de manera equilibrada. Esto es especialmente importante en modelos lineales sensibles a las escalas de las variables.\n"
      ],
      "metadata": {
        "id": "o4UCnZkutHYp"
      }
    },
    {
      "cell_type": "code",
      "source": [
        "scaler = StandardScaler()\n",
        "X_resampled_scaled = scaler.fit_transform(X_resampled)"
      ],
      "metadata": {
        "id": "Admx-uTLTuRV"
      },
      "execution_count": 27,
      "outputs": []
    },
    {
      "cell_type": "markdown",
      "metadata": {
        "id": "sNxC6RihkXY7"
      },
      "source": [
        "### **Separación de conjunto de entrenamiento y prueba**"
      ]
    },
    {
      "cell_type": "code",
      "execution_count": 28,
      "metadata": {
        "colab": {
          "base_uri": "https://localhost:8080/"
        },
        "id": "hPkIolKskY35",
        "outputId": "e17c0522-4373-4ad6-9762-3760f7648464"
      },
      "outputs": [
        {
          "output_type": "stream",
          "name": "stdout",
          "text": [
            "Tamaño del conjunto de entrenamiento: 27281 muestras\n",
            "Tamaño del conjunto de test: 6821 muestras\n"
          ]
        }
      ],
      "source": [
        "# División de los datos en conjunto de entrenamiento y test\n",
        "X_train, X_test, y_train, y_test = train_test_split(\n",
        "    X_resampled, y_resampled, test_size=0.2, random_state=42, stratify=y_resampled)\n",
        "\n",
        "\n",
        "print(f\"Tamaño del conjunto de entrenamiento: {X_train.shape[0]} muestras\")\n",
        "print(f\"Tamaño del conjunto de test: {X_test.shape[0]} muestras\")"
      ]
    },
    {
      "cell_type": "markdown",
      "metadata": {
        "id": "yDcUgpPpmM7M"
      },
      "source": [
        "## **Entrenamiento del modelo logístico**"
      ]
    },
    {
      "cell_type": "markdown",
      "metadata": {
        "id": "rMCxKpx0mPna"
      },
      "source": [
        "Ahora entrenaremos un modelo de clasificación supervisada utilizando un clasificador **logístico**, ampliamente utilizado en problemas de clasificación de texto por su capacidad para manejar espacios de alta dimensionalidad como los generados por TF-IDF.\n",
        "\n"
      ]
    },
    {
      "cell_type": "markdown",
      "metadata": {
        "id": "_nzEm797mQix"
      },
      "source": [
        "### **Entrenamiento del modelo**"
      ]
    },
    {
      "cell_type": "code",
      "source": [
        "param_grid = {\n",
        "    'C': [0.01, 0.1, 1, 10, 100]\n",
        "}\n",
        "\n",
        "grid_search = GridSearchCV(LogisticRegression(max_iter=1000), param_grid, cv=5, scoring='f1', n_jobs=-1,verbose=2)\n",
        "grid_search.fit(X_train, y_train)\n",
        "\n",
        "print(\"Mejores parámetros encontrados:\", grid_search.best_params_)"
      ],
      "metadata": {
        "colab": {
          "base_uri": "https://localhost:8080/"
        },
        "id": "jkhi6-81WfuV",
        "outputId": "6720e192-4bb9-4013-ce8e-5b691ed9f5ea"
      },
      "execution_count": 33,
      "outputs": [
        {
          "output_type": "stream",
          "name": "stdout",
          "text": [
            "Fitting 5 folds for each of 5 candidates, totalling 25 fits\n",
            "Mejores parámetros encontrados: {'C': 10}\n"
          ]
        }
      ]
    },
    {
      "cell_type": "markdown",
      "source": [
        "### **Observaciones**\n",
        "\n",
        "El modelo de regresión logística cuenta con un hiperparámetro clave denominado **C**, que controla el nivel de regularización del modelo (inverso de la penalización). Un C bajo implica mayor regularización (modelo más simple), mientras que un C alto permite modelos más ajustados a los datos.\n",
        "\n",
        "Para encontrar el valor óptimo de C, realizamos una búsqueda automatizada mediante **GridSearchCV**, que prueba distintos valores de C y evalúa el rendimiento mediante validación cruzada. Esto asegura que seleccionamos el nivel de regularización que ofrece el mejor equilibrio entre **ajuste al entrenamiento** y **capacidad de generalización** en nuevos datos.\n"
      ],
      "metadata": {
        "id": "N6xh5FiZtS0f"
      }
    },
    {
      "cell_type": "code",
      "source": [
        "best_model = grid_search.best_estimator_\n",
        "y_pred = best_model.predict(X_test)\n",
        "\n",
        "print(classification_report(y_test, y_pred))\n",
        "\n",
        "cm = confusion_matrix(y_test, y_pred)\n",
        "sns.heatmap(cm, annot=True, fmt=\"d\", cmap=\"Blues\")\n",
        "plt.title(\"Matriz de Confusión Logistic Regression\")\n",
        "plt.xlabel(\"Predicho\")\n",
        "plt.ylabel(\"Real\")\n",
        "plt.show()"
      ],
      "metadata": {
        "colab": {
          "base_uri": "https://localhost:8080/",
          "height": 628
        },
        "id": "P1OPuX3xXryf",
        "outputId": "79fbebbf-42d4-46c1-9454-eca0687ddc99"
      },
      "execution_count": 34,
      "outputs": [
        {
          "output_type": "stream",
          "name": "stdout",
          "text": [
            "              precision    recall  f1-score   support\n",
            "\n",
            "           0       0.90      0.93      0.92      3411\n",
            "           1       0.93      0.89      0.91      3410\n",
            "\n",
            "    accuracy                           0.91      6821\n",
            "   macro avg       0.91      0.91      0.91      6821\n",
            "weighted avg       0.91      0.91      0.91      6821\n",
            "\n"
          ]
        },
        {
          "output_type": "display_data",
          "data": {
            "text/plain": [
              "<Figure size 640x480 with 2 Axes>"
            ],
            "image/png": "[encoded data removed]"
          },
          "metadata": {}
        }
      ]
    },
    {
      "cell_type": "markdown",
      "metadata": {
        "id": "pgrPC1oSpEGA"
      },
      "source": [
        "### **Observaciones**\n",
        "\n",
        "El modelo Logistic Regression optimizado ha logrado un desempeño sólido y balanceado:\n",
        "\n",
        "- La **precisión global alcanza el 91%**, mostrando alta capacidad de generalización.\n",
        "- Ambas clases (positiva y negativa) muestran métricas muy similares:\n",
        "  - Para la clase negativa: *precision 0.90, recall 0.93, f1-score 0.92*.\n",
        "  - Para la clase positiva: *precision 0.93, recall 0.89, f1-score 0.91*.\n",
        "- Esto refleja que el preprocesamiento exhaustivo, la vectorización con bigramas, la reducción de dimensionalidad mediante SVD, el rebalanceo de clases con SMOTE y el ajuste de hiperparámetros han sido claves para alcanzar este desempeño robusto.\n",
        "- El modelo logra capturar de forma consistente patrones relevantes del texto, sin presentar sesgo hacia ninguna de las clases.\n",
        "\n",
        "Este resultado es representativo de un pipeline de análisis de sentimientos bien diseñado sobre datos textuales de gran tamaño.\n",
        "\n",
        "\n"
      ]
    },
    {
      "cell_type": "markdown",
      "metadata": {
        "id": "T4dZc8p9ttqH"
      },
      "source": [
        "## **Prueba de predicción sobre nueva reseña ingresada manualmente**"
      ]
    },
    {
      "cell_type": "code",
      "execution_count": 37,
      "metadata": {
        "colab": {
          "base_uri": "https://localhost:8080/"
        },
        "id": "GMq2cQ_ktvU2",
        "outputId": "e29f5fc7-3aca-4323-abaf-ef079bedee54"
      },
      "outputs": [
        {
          "output_type": "stream",
          "name": "stdout",
          "text": [
            "\n",
            "Texto nuevo: The film was absolutely fantastic, brilliant performances and engaging plot.\n",
            "Predicción de sentimiento: positive\n"
          ]
        }
      ],
      "source": [
        "def preprocess_new_text(text):\n",
        "    text = clean_text(text)\n",
        "    text = preprocess_text(text)\n",
        "    return text\n",
        "\n",
        "new_review = \"The film was absolutely fantastic, brilliant performances and engaging plot.\"\n",
        "new_review_clean = preprocess_new_text(new_review)\n",
        "new_vector = vectorizer.transform([new_review_clean])\n",
        "new_vector_reduced = svd.transform(new_vector)\n",
        "new_vector_scaled = scaler.transform(new_vector_reduced)\n",
        "prediction = best_model.predict(new_vector_scaled)\n",
        "\n",
        "print(\"\\nTexto nuevo:\", new_review)\n",
        "print(\"Predicción de sentimiento:\", 'positive' if prediction[0]==1 else 'negative')"
      ]
    },
    {
      "cell_type": "code",
      "source": [
        "def preprocess_new_text(text):\n",
        "    text = clean_text(text)\n",
        "    text = preprocess_text(text)\n",
        "    return text\n",
        "\n",
        "new_review = \"Whispers of the Zephyr is an empty, horrible and pretentious visual exercise; and an unbearably dull film you'll wish you hadn't seen. So bad\"\n",
        "new_review_clean = preprocess_new_text(new_review)\n",
        "new_vector = vectorizer.transform([new_review_clean])\n",
        "new_vector_reduced = svd.transform(new_vector)\n",
        "new_vector_scaled = scaler.transform(new_vector_reduced)\n",
        "prediction = best_model.predict(new_vector_scaled)\n",
        "\n",
        "print(\"\\nTexto nuevo:\", new_review)\n",
        "print(\"Predicción de sentimiento:\", 'positive' if prediction[0]==1 else 'negative')"
      ],
      "metadata": {
        "colab": {
          "base_uri": "https://localhost:8080/"
        },
        "id": "22u36pcBgVae",
        "outputId": "308181c8-7a44-44b7-96c0-09f8ea1d751f"
      },
      "execution_count": 45,
      "outputs": [
        {
          "output_type": "stream",
          "name": "stdout",
          "text": [
            "\n",
            "Texto nuevo: Whispers of the Zephyr is an empty, horrible and pretentious visual exercise; and an unbearably dull film you'll wish you hadn't seen. So bad\n",
            "Predicción de sentimiento: negative\n"
          ]
        }
      ]
    },
    {
      "cell_type": "markdown",
      "source": [
        "## **Observaciones**\n",
        "**Ejemplos manuales adicionales:**  \n",
        "  - La frase *\\\"The film was absolutely fantastic, brilliant performances and engaging plot.\\\"* fue correctamente clasificada como **positiva**, mostrando que el modelo reconoce expresiones claramente positivas.\n",
        "  - Por el contrario, *\\\"Whispers of the Zephyr is an empty, horrible and pretentious visual exercise...\\\"* fue correctamente clasificada como **negativa**, validando la capacidad del modelo para identificar palabras clave de fuerte carga negativa."
      ],
      "metadata": {
        "id": "BuU4HgVvoEH_"
      }
    },
    {
      "cell_type": "markdown",
      "source": [
        "## **Muestreo de ejemplos de aciertos**"
      ],
      "metadata": {
        "id": "sVxfZnZ6kk9m"
      }
    },
    {
      "cell_type": "code",
      "source": [
        "# Resetear índices después del split\n",
        "X_train = pd.DataFrame(X_train).reset_index(drop=True)\n",
        "X_test = pd.DataFrame(X_test).reset_index(drop=True)\n",
        "y_train = pd.Series(y_train).reset_index(drop=True)\n",
        "y_test = pd.Series(y_test).reset_index(drop=True)\n",
        "\n",
        "# Hacer las predicciones\n",
        "y_pred = best_model.predict(X_test)\n",
        "\n",
        "# Obtener los índices de cada cuadrante\n",
        "vp_idx = np.where((y_test == 1) & (y_pred == 1))[0]\n",
        "vn_idx = np.where((y_test == 0) & (y_pred == 0))[0]\n",
        "\n",
        "\n",
        "# Mostrar un ejemplo de cada tipo\n",
        "for label, idx_array in zip([\"Verdadero Positivo\", \"Verdadero Negativo\"], [vp_idx, vn_idx]):\n",
        "    if len(idx_array) > 0:\n",
        "        idx = random.choice(idx_array)\n",
        "        texto_original = binary_df.iloc[idx]['review']\n",
        "        real = 'positive' if y_test[idx] == 1 else 'negative'\n",
        "        pred = 'positive' if y_pred[idx] == 1 else 'negative'\n",
        "        print(f\"\\n{label} (idx {idx}):\")\n",
        "        print(\"Texto original:\", texto_original)\n",
        "        print(\"Real:\", real)\n",
        "        print(\"Predicho:\", pred)"
      ],
      "metadata": {
        "colab": {
          "base_uri": "https://localhost:8080/"
        },
        "id": "xGIMH7X1kmoL",
        "outputId": "fff17310-eb76-4a58-c75a-476c05bcf41c"
      },
      "execution_count": 47,
      "outputs": [
        {
          "output_type": "stream",
          "name": "stdout",
          "text": [
            "\n",
            "Verdadero Positivo (idx 1799):\n",
            "Texto original: I love science fiction, I am fascinated by Egyptian mythology and I appreciate digital animation. I figured a movie that combines these three would be at least enjoyable. I could not have been more wrong: The story (or actually the lack there of) was completely uninspired and lacks imagination - while imagination usually is the biggest component of any science fiction story. The dialogue and acting are even worse than in an average porno movie. Especially Thomas Kretschmann gives new meaning to the term 'bad performance'. Bad acting wouldn't have been such a huge problem if only 'director' Bilal didn't take himself so seriously; all the lines sound like they are supposed to be poetic, it looks like Bilal really thinks he has made a piece of art here. Well, there's no art or poetry to be found in this piece of junk, only pretentiousness! This man should really stick to making comics, since he fails on all possible accounts as a director. Worst of all is the terrible digital animation, which is so ugly that it actually turns watching this movie into a physically painful experience. The graphics look so fake they even make the werewolves in 'Van Helsing' look like live actors! And since half the characters are CGI-animated, it is quite a problem that the CGI-effects look so fake. If the Egyptian Gods actually exist then Bilal's a dead guy, since they will no doubt take gruesome revenge on him for the ridiculous way in which he portrays them in this disastrously bad movie.\n",
            "Real: positive\n",
            "Predicho: positive\n",
            "\n",
            "Verdadero Negativo (idx 4369):\n",
            "Texto original: I'll admit to being biased when I reviewed this since it was my introduction to the series. I saw this film for the first time in ~2005 on the late night \"Fear Friday\" on AMC, which often pulls obscure gems like this out of cold storage for new generations. I made it a point to watch the entire Amicus anthology series before reviewing any of them here to make sure I had perspective. Looking back, I still rate The House That Dripped Blood as my favorite, followed closely by Tales From The Crypt and then Asylum.<br /><br />I think all of the elements that make this series charming---the vintage '60s/'70s style cinematography, creepy to kooky, far-fetched tales and the utter Britishness of it all right down the backing music----came together better here than any of the others overall. The movie centers around a very old English country house and the misfortune that befalls all that dwell within.<br /><br />The first story involves a horror writer and his wife, who moved into this secluded place to get a break from the city so he could concentrate on his passion. He creates a murderous character called Dominic and soon starts experiencing great difficulty telling reality from fiction. There is a subtle physchedelia here via his torment that I found amusing yet creepy. Oh and those horrible prop teeth (then again these are British actors, maybe those were REAL!!!) <br /><br />The second story is the tale of a lonely old man (Peter Cushing) that has moved here to escape his loneliness, yet it only worsens as he is haunted by lost love. He seems to have found possible salvation at a local (very creepy) wax museum, but it turns out he would have been much better off alone.......<br /><br />The third story includes the great Christopher Lee (my fav British horror actor) as a single father with a rather disturbed and thoroughly creepy young daughter. He is constantly wary of her getting into things she shouldn't---like witchcraft! She has a natural talent for it, with good reason. Lee is superb here as the ice cold disciplinarian, that man has a true talent for playing characters that are absolutely devoid of warmth!! But despite his best efforts, the little troublemaker does in fact learn forbidden knowledge and bad things follow......<br /><br />This final story is the tale of a cynical old veteran actor that feels the young director he's working with isn't qualified to capture a proper vampire film, right down to the quality of the costumes and his cloak in particular. So he goes to a old curiosity store in the middle of a foggy night to get something more \"authentic\". Little does he know that he picked up a truly authentic vampire's cloak! Putting it on at the stroke of midnight has rather noticeable effects. By the time I had gotten to this fourth and final story, it was after 3 am and I couldn't quite stay awake on the first try (not from boredom). But I did experience something that I have hundreds of times, a curious bonding experience I have with films or music when I drift in and out of sleep and the film/music becomes part of my dream!! Great fun!! This bizarre story was perfect for that and seemed much scarier the first time than it actually was because I woke up right when he was levitated by the cloak's power and couldn't quite comprehend was what happening at first. Not long after, the lovely Ingrid Pitt, a costar on his movie set, came to visit and he warned her not to put on the cloak at midnight---but he needn't have bothered, for she was a real vampire herself. The chintzy keyboard jingle that followed as she flew toward him on the staircase was simply hysterical!! And again in my half-asleep state, seemed rather confusing! Side Note: Make sure to catch Lee and Pitt along with the stunning Amicus star Britt Ekland in the all time classic film The Wicker Man (1973). <br /><br />The weakest link here was the interlacing commentary between stories, but based on the stories themselves, this is a classic! Objectively, I would say the third story is best, but I like the 4th most because it makes me smile so much.Very highly recommended for horror fans and if you're a British horror fan, it's mandatory! I'd say it's worthwhile to view the series in chronological order if you can. The last film of this series, Monster Club (1980) is certainly the weakest. I think the first 3-4 films except for the at times mediocre Torture Garden (1967) are the best, but if you like any of them, you should watch them all at least once. You'll probably be back many more times to watch your favorites.\n",
            "Real: negative\n",
            "Predicho: negative\n"
          ]
        }
      ]
    },
    {
      "cell_type": "markdown",
      "source": [
        "### **Análisis cualitativo de ejemplos de predicción**\n",
        "\n",
        "Al revisar manualmente ejemplos individuales, observamos:\n",
        "\n",
        "- **Verdadero Positivo (clasificación correcta de positivo):**  \n",
        "  En el primer caso, aunque la reseña expresa duras críticas hacia la película, la estructura general de la reseña comienza con afirmaciones positivas (“I love science fiction... I appreciate digital animation...”). Este tipo de redacción inicial puede influir en el modelo, al igual que en VADER, para etiquetar el texto como positivo, a pesar del tono negativo global. Sin embargo, coincide con la etiqueta de referencia generada.\n",
        "\n",
        "- **Verdadero Negativo (clasificación correcta de negativo):**  \n",
        "  En el segundo ejemplo, la reseña contiene una narrativa extensa pero cargada de apreciaciones ambiguas y críticas hacia los elementos de terror clásico. A pesar del tono nostálgico, el modelo ha logrado capturar la carga negativa latente en la reseña, alineándose con la etiqueta esperada.\n",
        "\n",
        "\n",
        "\n",
        "**Comentario:**  \n",
        "El modelo muestra buena sensibilidad para detectar términos explícitos de polaridad (positiva o negativa), aunque se observa el clásico desafío de los modelos de sentimiento: las reseñas mixtas o con ironía, sarcasmo o estructura compleja pueden generar ambigüedad. No obstante, el rendimiento general se mantiene consistente y robusto, como reflejan también las métricas cuantitativas.\n",
        "\n"
      ],
      "metadata": {
        "id": "nTZymTAKn-QS"
      }
    },
    {
      "cell_type": "markdown",
      "source": [
        "---------------------------\n",
        "## **Conclusiones del Proyecto**\n",
        "---------------------------\n",
        "\n",
        "- Se ha desarrollado un pipeline completo de análisis de sentimientos sobre reseñas de películas de IMDB, partiendo de un dataset sin etiquetas de sentimiento.\n",
        "- Utilizando el modelo léxico VADER, generamos etiquetas automáticas de sentimiento, permitiendo posteriormente entrenar un modelo supervisado.\n",
        "- Se implementó un preprocesamiento exhaustivo del texto, incluyendo limpieza, eliminación de stopwords, lematización y vectorización con TF-IDF incluyendo bigramas.\n",
        "- Dado el alto número de features generados, aplicamos reducción de dimensionalidad con Truncated SVD, optimizando el número de componentes necesarios para preservar la información relevante.\n",
        "- El desbalance natural de las clases fue abordado exitosamente mediante la técnica de sobremuestreo SMOTE.\n",
        "- Finalmente, el modelo supervisado seleccionado fue **Logistic Regression**, que mostró gran estabilidad, eficiencia computacional y un excelente rendimiento:\n",
        "  - Precisión global de **91%**.\n",
        "  - F1-score balanceado para ambas clases.\n",
        "  - Matriz de confusión equilibrada, sin evidencia de sesgo hacia clases mayoritarias.\n",
        "\n",
        "Este pipeline semi-supervisado demostró ser altamente eficiente para escenarios donde no se dispone de etiquetas manuales, combinando técnicas de etiquetado automático y aprendizaje supervisado.\n",
        "\n",
        "---------------------------\n",
        "## **Recomendaciones**\n",
        "---------------------------\n",
        "\n",
        "- Si bien VADER es adecuado para este primer etiquetado, futuras versiones podrían incorporar **modelos de lenguaje más avanzados (BERT, RoBERTa)** para obtener etiquetas iniciales más refinadas.\n",
        "- La combinación de bigramas y reducción de dimensionalidad ha sido clave; en problemas similares se recomienda siempre evaluar estas dos técnicas juntas.\n",
        "- La utilización de **modelos lineales (como Logistic Regression) resulta altamente efectiva** en contextos de texto vectorizado de alta dimensionalidad, incluso superando alternativas más complejas como SVM.\n",
        "- Para entornos productivos, el pipeline puede implementarse fácilmente debido a su bajo costo computacional y estabilidad.\n",
        "- Este flujo puede extenderse a otros dominios de texto (reseñas de productos, comentarios de clientes, encuestas) con mínimas adaptaciones.\n"
      ],
      "metadata": {
        "id": "gPbWY2aXmB9h"
      }
    },
    {
      "cell_type": "markdown",
      "source": [],
      "metadata": {
        "id": "tdcdLkDcmDon"
      }
    }
  ],
  "metadata": {
    "colab": {
      "gpuType": "T4",
      "machine_shape": "hm",
      "provenance": []
    },
    "kernelspec": {
      "display_name": "Python 3",
      "name": "python3"
    },
    "language_info": {
      "name": "python"
    }
  },
  "nbformat": 4,
  "nbformat_minor": 0
}